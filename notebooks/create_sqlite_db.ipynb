{
 "cells": [
  {
   "cell_type": "code",
   "execution_count": 1,
   "id": "1bd5bd93",
   "metadata": {},
   "outputs": [],
   "source": [
    "import sqlite3\n",
    "from sqlite3 import Error\n",
    "\n",
    "\n",
    "def create_connection(db_file):\n",
    "    \"\"\" create a database connection to a SQLite database \"\"\"\n",
    "    conn = None\n",
    "    try:\n",
    "        conn = sqlite3.connect(db_file)\n",
    "        print(sqlite3.version)\n",
    "    except Error as e:\n",
    "        print(e)\n",
    "    finally:\n",
    "        if conn:\n",
    "            conn.close()\n"
   ]
  },
  {
   "cell_type": "code",
   "execution_count": 3,
   "id": "27d41eae",
   "metadata": {},
   "outputs": [
    {
     "name": "stdout",
     "output_type": "stream",
     "text": [
      "/Users/valerie/Desktop/DataScience/job-application/coding_assignments/ml/dbs_ds/stage1_sect_b\n"
     ]
    }
   ],
   "source": [
    "cd .."
   ]
  },
  {
   "cell_type": "code",
   "execution_count": 5,
   "id": "a8370543",
   "metadata": {},
   "outputs": [
    {
     "name": "stdout",
     "output_type": "stream",
     "text": [
      "2.6.0\n"
     ]
    }
   ],
   "source": [
    "create_connection(\"music.db\")"
   ]
  },
  {
   "cell_type": "code",
   "execution_count": null,
   "id": "a5bb97de",
   "metadata": {},
   "outputs": [],
   "source": []
  },
  {
   "cell_type": "code",
   "execution_count": 1,
   "id": "01d193e8",
   "metadata": {},
   "outputs": [
    {
     "name": "stdout",
     "output_type": "stream",
     "text": [
      "/Users/valerie/Desktop/DataScience/job-application/coding_assignments/ml/dbs_ds/fastapi_ml_pytest\n"
     ]
    }
   ],
   "source": [
    "cd /Users/valerie/Desktop/DataScience/job-application/coding_assignments/ml/dbs_ds/fastapi_ml_pytest\n"
   ]
  },
  {
   "cell_type": "code",
   "execution_count": 8,
   "id": "e16325f4",
   "metadata": {},
   "outputs": [],
   "source": [
    "import sqlite3\n",
    "import pandas as pd\n",
    "con = sqlite3.connect(\"./db/music.db\")"
   ]
  },
  {
   "cell_type": "code",
   "execution_count": 9,
   "id": "7a697b4d",
   "metadata": {},
   "outputs": [],
   "source": [
    "\n",
    "cursor = con.cursor()\n",
    "sql='''\n",
    "SELECT * FROM titles_and_genre limit 5\n",
    "'''\n",
    "sample_df = pd.read_sql_query(sql, con)"
   ]
  },
  {
   "cell_type": "code",
   "execution_count": 10,
   "id": "38b34ac1",
   "metadata": {},
   "outputs": [
    {
     "data": {
      "text/html": [
       "<div>\n",
       "<style scoped>\n",
       "    .dataframe tbody tr th:only-of-type {\n",
       "        vertical-align: middle;\n",
       "    }\n",
       "\n",
       "    .dataframe tbody tr th {\n",
       "        vertical-align: top;\n",
       "    }\n",
       "\n",
       "    .dataframe thead th {\n",
       "        text-align: right;\n",
       "    }\n",
       "</style>\n",
       "<table border=\"1\" class=\"dataframe\">\n",
       "  <thead>\n",
       "    <tr style=\"text-align: right;\">\n",
       "      <th></th>\n",
       "      <th>trackID</th>\n",
       "      <th>title</th>\n",
       "      <th>predictions</th>\n",
       "    </tr>\n",
       "  </thead>\n",
       "  <tbody>\n",
       "    <tr>\n",
       "      <th>0</th>\n",
       "      <td>6732</td>\n",
       "      <td>You Get What You Give</td>\n",
       "      <td>metal</td>\n",
       "    </tr>\n",
       "    <tr>\n",
       "      <th>1</th>\n",
       "      <td>5415</td>\n",
       "      <td>Greedee</td>\n",
       "      <td>metal</td>\n",
       "    </tr>\n",
       "    <tr>\n",
       "      <th>2</th>\n",
       "      <td>7757</td>\n",
       "      <td>Wonderful World</td>\n",
       "      <td>folk</td>\n",
       "    </tr>\n",
       "    <tr>\n",
       "      <th>3</th>\n",
       "      <td>1854</td>\n",
       "      <td>Michoacan</td>\n",
       "      <td>folk</td>\n",
       "    </tr>\n",
       "    <tr>\n",
       "      <th>4</th>\n",
       "      <td>4942</td>\n",
       "      <td>HUSTLER</td>\n",
       "      <td>soul and reggae</td>\n",
       "    </tr>\n",
       "  </tbody>\n",
       "</table>\n",
       "</div>"
      ],
      "text/plain": [
       "   trackID                  title      predictions\n",
       "0     6732  You Get What You Give            metal\n",
       "1     5415                Greedee            metal\n",
       "2     7757        Wonderful World             folk\n",
       "3     1854              Michoacan             folk\n",
       "4     4942                HUSTLER  soul and reggae"
      ]
     },
     "execution_count": 10,
     "metadata": {},
     "output_type": "execute_result"
    }
   ],
   "source": [
    "sample_df"
   ]
  },
  {
   "cell_type": "code",
   "execution_count": 11,
   "id": "0d298f3b",
   "metadata": {},
   "outputs": [
    {
     "data": {
      "text/plain": [
       "array([6732, 5415, 7757, 1854, 4942])"
      ]
     },
     "execution_count": 11,
     "metadata": {},
     "output_type": "execute_result"
    }
   ],
   "source": [
    "sample_df['trackID'].values"
   ]
  },
  {
   "cell_type": "code",
   "execution_count": 12,
   "id": "53eeadec",
   "metadata": {},
   "outputs": [
    {
     "data": {
      "text/plain": [
       "[6732, 5415, 7757, 1854, 4942]"
      ]
     },
     "execution_count": 12,
     "metadata": {},
     "output_type": "execute_result"
    }
   ],
   "source": [
    "sample_df['trackID'].values.tolist()"
   ]
  },
  {
   "cell_type": "code",
   "execution_count": 13,
   "id": "7dbc49fe",
   "metadata": {},
   "outputs": [],
   "source": [
    "pending_list_id = [5415, 123]\n",
    "list_id_in_db = [6732, 5415, 7757, 1854, 4942, 2325, 3553, 4458, 1650, 4372, 906, 3798, 940, 1562, 8310, 6383, 3295, 6281, 5368, 4065, 7701, 1751, 8074, 1971, 7416, 3691, 7751, 6589, 4096, 2145, 7137, 3458, 8323, 7634, 6860, 2882, 6936, 88, 1730, 4022, 5385, 6285, 6737, 2938, 802, 3245, 579, 7547, 311, 5780, 7928, 7889, 1892, 2409, 2410, 2670, 1895, 7158, 4996, 7461, 4335, 7806, 6578, 52, 2018, 4548, 2623, 4920, 2684, 5912, 1507, 251, 8076, 3396, 4533, 3257, 6241, 3661, 7353, 1291, 4428, 3935, 2154, 7458, 5001, 8278, 2307, 4894, 5597, 1362, 791, 4425, 6005, 6705, 4608, 503, 611, 237, 3111, 4260, 7812, 3634, 5105, 6778, 6155, 5501, 321, 1377, 8392, 1155, 7296, 1040, 8292, 5546, 1656, 2028, 1889, 5591, 5852, 4948, 2514, 3484, 6601, 8331, 7793, 3439, 6236, 2935, 3620, 2005, 1560, 4126, 7558, 7436, 2243, 8175, 127, 6528, 7167, 7081, 4543, 7489, 6604, 6676, 6663, 7127, 755, 4021, 6615, 8377, 1301, 7249, 2847, 1328, 6091, 4809, 5085, 2340, 2596, 2665, 2454, 4979, 1417, 4641, 3982, 4177, 5582, 3001, 4563, 5096, 8443, 2254, 4013, 6203, 2933, 7803, 5054, 2386, 7460, 3867, 4876, 7686, 3296, 6889, 5188, 2372, 6130, 1084, 3428, 1080, 3702, 2534, 6306, 634, 3817, 2089, 1427, 723, 4949, 937, 1225, 3860, 3174, 8032, 943, 5310, 235, 4170, 1493, 152, 1380, 4624, 4972, 6114, 6159, 113, 5338, 3187, 740, 4209, 2193, 7142, 834, 7480, 1591, 4469, 2862, 8452, 1393, 662, 2541, 1643, 4089, 443, 7970, 4381, 4020, 320, 82, 2061, 6953, 2081, 7618, 4782, 2833, 904, 4440, 7671, 5384, 4713, 455, 5216, 3960, 4964, 8258, 935, 2641, 5191, 3230, 6182, 4866, 1549, 7068, 2900, 2246, 3737, 3266, 5376, 5800, 1888, 4373, 4993, 3270, 5958, 2688, 7606, 7075, 6770, 5328, 3160, 1580, 7096, 3408, 3641, 7990, 4175, 6164, 3348, 7330, 7777, 7391, 4488, 7443, 1097, 6624, 5034, 1629, 6028, 6536, 4191, 2547, 3655, 3757, 5029, 3220, 329, 8118, 4555, 954, 5446, 7680, 4053, 6448, 3317, 1007, 1741, 8106, 7818, 4691, 4709, 5586, 1958, 4850, 493, 4336, 1090, 6078, 570, 4032, 5419, 2648, 7906, 4216, 1663, 6026, 1705, 4647, 427, 3028, 6394, 6291, 3572, 7823, 8476, 462, 7251, 8394, 6118, 4507, 3400, 693, 4601, 5773, 5984, 7267, 146, 1609, 5157, 7792, 5064, 163, 2582, 4976, 4451, 4247, 5061, 8289, 3027, 2091, 2013, 574, 4750, 2002, 2069, 7174, 3490, 7494, 2906, 7747, 8031, 4865, 3051, 2479, 4789, 7993, 5313, 722, 4627, 2837, 7742, 2349, 3993, 6689, 6469, 2821, 8355, 2286, 5066, 5266, 1837, 7192, 3122, 5947, 6301, 6971, 7555, 1186, 8532, 6503, 1831, 7314, 5648, 4590, 2490, 2159, 1475, 2215, 2944, 450, 6989, 1844, 106, 7374, 186, 4758, 2231, 2925, 2075]\n",
    "# list_id_to_append [4096, 7174, 6155, 2061, 6159, 1040, 6164, 2069, 7192, 2075, 4126, 2081, 5157, 6182, 3111, 2089, 2091, 3122, 52, 1080, 6203, 1084, 8258, 1090, 5188, 5191, 1097, 4170, 4175, 4177, 82, 7249, 7251, 8278, 88, 3160, 6236, 4191, 5216, 6241, 2145, 8289, 8292, 7267, 3174, 2154, 106, 2159, 113, 4209, 3187, 8310, 4216, 127, 7296, 8323, 1155, 6281, 8331, 6285, 2193, 146, 6291, 5266, 7314, 3220, 4247, 152, 6301, 3230, 6306, 163, 4260, 8355, 7330, 2215, 1186, 3245, 2231, 8377, 186, 3257, 7353, 5310, 5313, 3266, 2243, 2246, 3270, 8392, 1225, 8394, 2254, 7374, 5328, 5338, 3295, 3296, 7391, 235, 237, 2286, 6383, 4335, 4336, 3317, 7416, 5368, 6394, 251, 8443, 5376, 2307, 8452, 5384, 5385, 1291, 7436, 7443, 4372, 2325, 4373, 3348, 1301, 8476, 4381, 7458, 2340, 7460, 7461, 5419, 2349, 6448, 1328, 311, 7480, 320, 321, 7489, 2372, 6469, 3396, 5446, 7494, 4425, 329, 3400, 4428, 3408, 2386, 1362, 8532, 4440, 1377, 4451, 3428, 1380, 6503, 2409, 4458, 2410, 3439, 1393, 4469, 7547, 5501, 6528, 3458, 7555, 7558, 4488, 6536, 1417, 1427, 2454, 4507, 3484, 3490, 5546, 427, 2479, 6578, 4533, 7606, 2490, 443, 6589, 4543, 450, 7618, 4548, 1475, 455, 6601, 4555, 6604, 462, 5582, 2514, 4563, 7634, 5586, 1493, 6615, 5591, 5597, 6624, 3553, 1507, 2534, 2541, 493, 4590, 2547, 3572, 503, 7671, 4601, 4608, 7680, 7686, 6663, 1549, 4624, 5648, 4627, 6676, 7701, 2582, 1560, 1562, 4641, 6689, 2596, 3620, 4647, 1580, 6705, 3634, 1591, 3641, 570, 574, 2623, 7742, 579, 7747, 7751, 3655, 1609, 6732, 7757, 3661, 6737, 2641, 4691, 2648, 1629, 7777, 611, 4709, 2665, 4713, 3691, 1643, 2670, 7792, 7793, 6770, 1650, 3702, 1656, 6778, 634, 2684, 7803, 7806, 1663, 2688, 7812, 7818, 5773, 4750, 7823, 5780, 662, 4758, 3737, 5800, 1705, 3757, 4782, 693, 4789, 1730, 4809, 6860, 1741, 7889, 722, 723, 3798, 1751, 5852, 7906, 740, 6889, 3817, 4850, 755, 7928, 4865, 4866, 2821, 4876, 2833, 3860, 2837, 791, 6936, 5912, 3867, 4894, 2847, 802, 7970, 1831, 6953, 1837, 2862, 1844, 7990, 4920, 7993, 6971, 5947, 1854, 2882, 834, 5958, 6989, 4942, 4948, 4949, 2900, 2906, 3935, 8032, 1889, 1888, 5984, 4964, 1892, 8031, 1895, 4972, 2925, 4976, 4979, 2933, 6005, 2935, 3960, 2938, 2944, 4993, 4996, 904, 5001, 906, 8074, 6026, 8076, 6028, 3982, 3993, 7068, 7075, 5029, 1958, 935, 7081, 937, 5034, 940, 8106, 4013, 943, 1971, 4020, 4021, 4022, 8118, 7096, 3001, 954, 5054, 6078, 4032, 5061, 5064, 5066, 6091, 2002, 3027, 3028, 2005, 4053, 7127, 5085, 2013, 7137, 4065, 2018, 6114, 7142, 6118, 5096, 3051, 2028, 1007, 8175, 5105, 6130, 7158, 4089, 7167]"
   ]
  },
  {
   "cell_type": "code",
   "execution_count": 14,
   "id": "8dfe00ae",
   "metadata": {
    "collapsed": true,
    "jupyter": {
     "outputs_hidden": true
    }
   },
   "outputs": [
    {
     "data": {
      "text/plain": [
       "[4096,\n",
       " 7174,\n",
       " 6155,\n",
       " 2061,\n",
       " 6159,\n",
       " 1040,\n",
       " 6164,\n",
       " 2069,\n",
       " 7192,\n",
       " 2075,\n",
       " 4126,\n",
       " 2081,\n",
       " 5157,\n",
       " 6182,\n",
       " 3111,\n",
       " 2089,\n",
       " 2091,\n",
       " 3122,\n",
       " 52,\n",
       " 1080,\n",
       " 6203,\n",
       " 1084,\n",
       " 8258,\n",
       " 1090,\n",
       " 5188,\n",
       " 5191,\n",
       " 1097,\n",
       " 4170,\n",
       " 4175,\n",
       " 4177,\n",
       " 82,\n",
       " 7249,\n",
       " 7251,\n",
       " 8278,\n",
       " 88,\n",
       " 3160,\n",
       " 6236,\n",
       " 4191,\n",
       " 5216,\n",
       " 6241,\n",
       " 2145,\n",
       " 8289,\n",
       " 8292,\n",
       " 7267,\n",
       " 3174,\n",
       " 2154,\n",
       " 106,\n",
       " 2159,\n",
       " 113,\n",
       " 4209,\n",
       " 3187,\n",
       " 8310,\n",
       " 4216,\n",
       " 127,\n",
       " 7296,\n",
       " 8323,\n",
       " 1155,\n",
       " 6281,\n",
       " 8331,\n",
       " 6285,\n",
       " 2193,\n",
       " 146,\n",
       " 6291,\n",
       " 5266,\n",
       " 7314,\n",
       " 3220,\n",
       " 4247,\n",
       " 152,\n",
       " 6301,\n",
       " 3230,\n",
       " 6306,\n",
       " 163,\n",
       " 4260,\n",
       " 8355,\n",
       " 7330,\n",
       " 2215,\n",
       " 1186,\n",
       " 3245,\n",
       " 2231,\n",
       " 8377,\n",
       " 186,\n",
       " 3257,\n",
       " 7353,\n",
       " 5310,\n",
       " 5313,\n",
       " 3266,\n",
       " 2243,\n",
       " 2246,\n",
       " 3270,\n",
       " 8392,\n",
       " 1225,\n",
       " 8394,\n",
       " 2254,\n",
       " 7374,\n",
       " 5328,\n",
       " 5338,\n",
       " 3295,\n",
       " 3296,\n",
       " 7391,\n",
       " 235,\n",
       " 237,\n",
       " 2286,\n",
       " 6383,\n",
       " 4335,\n",
       " 4336,\n",
       " 3317,\n",
       " 7416,\n",
       " 5368,\n",
       " 6394,\n",
       " 251,\n",
       " 8443,\n",
       " 5376,\n",
       " 2307,\n",
       " 8452,\n",
       " 5384,\n",
       " 5385,\n",
       " 1291,\n",
       " 7436,\n",
       " 7443,\n",
       " 4372,\n",
       " 2325,\n",
       " 4373,\n",
       " 3348,\n",
       " 1301,\n",
       " 8476,\n",
       " 4381,\n",
       " 7458,\n",
       " 2340,\n",
       " 7460,\n",
       " 7461,\n",
       " 5419,\n",
       " 2349,\n",
       " 6448,\n",
       " 1328,\n",
       " 311,\n",
       " 7480,\n",
       " 320,\n",
       " 321,\n",
       " 7489,\n",
       " 2372,\n",
       " 6469,\n",
       " 3396,\n",
       " 5446,\n",
       " 7494,\n",
       " 4425,\n",
       " 329,\n",
       " 3400,\n",
       " 4428,\n",
       " 3408,\n",
       " 2386,\n",
       " 1362,\n",
       " 8532,\n",
       " 4440,\n",
       " 1377,\n",
       " 4451,\n",
       " 3428,\n",
       " 1380,\n",
       " 6503,\n",
       " 2409,\n",
       " 4458,\n",
       " 2410,\n",
       " 3439,\n",
       " 1393,\n",
       " 4469,\n",
       " 7547,\n",
       " 5501,\n",
       " 6528,\n",
       " 3458,\n",
       " 7555,\n",
       " 7558,\n",
       " 4488,\n",
       " 6536,\n",
       " 1417,\n",
       " 1427,\n",
       " 2454,\n",
       " 4507,\n",
       " 3484,\n",
       " 3490,\n",
       " 5546,\n",
       " 427,\n",
       " 2479,\n",
       " 6578,\n",
       " 4533,\n",
       " 7606,\n",
       " 2490,\n",
       " 443,\n",
       " 6589,\n",
       " 4543,\n",
       " 450,\n",
       " 7618,\n",
       " 4548,\n",
       " 1475,\n",
       " 455,\n",
       " 6601,\n",
       " 4555,\n",
       " 6604,\n",
       " 462,\n",
       " 5582,\n",
       " 2514,\n",
       " 4563,\n",
       " 7634,\n",
       " 5586,\n",
       " 1493,\n",
       " 6615,\n",
       " 5591,\n",
       " 5597,\n",
       " 6624,\n",
       " 3553,\n",
       " 1507,\n",
       " 2534,\n",
       " 2541,\n",
       " 493,\n",
       " 4590,\n",
       " 2547,\n",
       " 3572,\n",
       " 503,\n",
       " 7671,\n",
       " 4601,\n",
       " 4608,\n",
       " 7680,\n",
       " 7686,\n",
       " 6663,\n",
       " 1549,\n",
       " 4624,\n",
       " 5648,\n",
       " 4627,\n",
       " 6676,\n",
       " 7701,\n",
       " 2582,\n",
       " 1560,\n",
       " 1562,\n",
       " 4641,\n",
       " 6689,\n",
       " 2596,\n",
       " 3620,\n",
       " 4647,\n",
       " 1580,\n",
       " 6705,\n",
       " 3634,\n",
       " 1591,\n",
       " 3641,\n",
       " 570,\n",
       " 574,\n",
       " 2623,\n",
       " 7742,\n",
       " 579,\n",
       " 7747,\n",
       " 7751,\n",
       " 3655,\n",
       " 1609,\n",
       " 6732,\n",
       " 7757,\n",
       " 3661,\n",
       " 6737,\n",
       " 2641,\n",
       " 4691,\n",
       " 2648,\n",
       " 1629,\n",
       " 7777,\n",
       " 611,\n",
       " 4709,\n",
       " 2665,\n",
       " 4713,\n",
       " 3691,\n",
       " 1643,\n",
       " 2670,\n",
       " 7792,\n",
       " 7793,\n",
       " 6770,\n",
       " 1650,\n",
       " 3702,\n",
       " 1656,\n",
       " 6778,\n",
       " 634,\n",
       " 2684,\n",
       " 7803,\n",
       " 7806,\n",
       " 1663,\n",
       " 2688,\n",
       " 7812,\n",
       " 7818,\n",
       " 5773,\n",
       " 4750,\n",
       " 7823,\n",
       " 5780,\n",
       " 662,\n",
       " 4758,\n",
       " 3737,\n",
       " 5800,\n",
       " 1705,\n",
       " 3757,\n",
       " 4782,\n",
       " 693,\n",
       " 4789,\n",
       " 1730,\n",
       " 4809,\n",
       " 6860,\n",
       " 1741,\n",
       " 7889,\n",
       " 722,\n",
       " 723,\n",
       " 3798,\n",
       " 1751,\n",
       " 5852,\n",
       " 7906,\n",
       " 740,\n",
       " 6889,\n",
       " 3817,\n",
       " 4850,\n",
       " 755,\n",
       " 7928,\n",
       " 4865,\n",
       " 4866,\n",
       " 2821,\n",
       " 4876,\n",
       " 2833,\n",
       " 3860,\n",
       " 2837,\n",
       " 791,\n",
       " 6936,\n",
       " 5912,\n",
       " 3867,\n",
       " 4894,\n",
       " 2847,\n",
       " 802,\n",
       " 7970,\n",
       " 1831,\n",
       " 6953,\n",
       " 1837,\n",
       " 2862,\n",
       " 1844,\n",
       " 7990,\n",
       " 4920,\n",
       " 7993,\n",
       " 6971,\n",
       " 5947,\n",
       " 1854,\n",
       " 2882,\n",
       " 834,\n",
       " 5958,\n",
       " 6989,\n",
       " 4942,\n",
       " 4948,\n",
       " 4949,\n",
       " 2900,\n",
       " 2906,\n",
       " 3935,\n",
       " 8032,\n",
       " 1889,\n",
       " 1888,\n",
       " 5984,\n",
       " 4964,\n",
       " 1892,\n",
       " 8031,\n",
       " 1895,\n",
       " 4972,\n",
       " 2925,\n",
       " 4976,\n",
       " 4979,\n",
       " 2933,\n",
       " 6005,\n",
       " 2935,\n",
       " 3960,\n",
       " 2938,\n",
       " 2944,\n",
       " 4993,\n",
       " 4996,\n",
       " 904,\n",
       " 5001,\n",
       " 906,\n",
       " 8074,\n",
       " 6026,\n",
       " 8076,\n",
       " 6028,\n",
       " 3982,\n",
       " 3993,\n",
       " 7068,\n",
       " 7075,\n",
       " 5029,\n",
       " 1958,\n",
       " 935,\n",
       " 7081,\n",
       " 937,\n",
       " 5034,\n",
       " 940,\n",
       " 8106,\n",
       " 4013,\n",
       " 943,\n",
       " 1971,\n",
       " 4020,\n",
       " 4021,\n",
       " 4022,\n",
       " 8118,\n",
       " 7096,\n",
       " 3001,\n",
       " 954,\n",
       " 5054,\n",
       " 6078,\n",
       " 4032,\n",
       " 5061,\n",
       " 5064,\n",
       " 5066,\n",
       " 6091,\n",
       " 2002,\n",
       " 3027,\n",
       " 3028,\n",
       " 2005,\n",
       " 4053,\n",
       " 7127,\n",
       " 5085,\n",
       " 2013,\n",
       " 7137,\n",
       " 4065,\n",
       " 2018,\n",
       " 6114,\n",
       " 7142,\n",
       " 6118,\n",
       " 5096,\n",
       " 3051,\n",
       " 2028,\n",
       " 1007,\n",
       " 8175,\n",
       " 5105,\n",
       " 6130,\n",
       " 7158,\n",
       " 4089,\n",
       " 7167]"
      ]
     },
     "execution_count": 14,
     "metadata": {},
     "output_type": "execute_result"
    }
   ],
   "source": [
    "list(set(list_id_in_db).difference(set(pending_list_id)))\n"
   ]
  },
  {
   "cell_type": "code",
   "execution_count": 15,
   "id": "6ca0c127",
   "metadata": {},
   "outputs": [
    {
     "data": {
      "text/plain": [
       "[123]"
      ]
     },
     "execution_count": 15,
     "metadata": {},
     "output_type": "execute_result"
    }
   ],
   "source": [
    "[trackID for trackID in pending_list_id if trackID not in list_id_in_db]"
   ]
  },
  {
   "cell_type": "code",
   "execution_count": 3,
   "id": "8637da40",
   "metadata": {},
   "outputs": [],
   "source": [
    "cursor = con.cursor()\n",
    "sql='''\n",
    "SELECT COUNT(1) FROM titles_and_genre\n",
    "'''\n",
    "sample_df = pd.read_sql_query(sql, con)"
   ]
  },
  {
   "cell_type": "code",
   "execution_count": 7,
   "id": "36afe5d6",
   "metadata": {},
   "outputs": [
    {
     "data": {
      "text/html": [
       "<div>\n",
       "<style scoped>\n",
       "    .dataframe tbody tr th:only-of-type {\n",
       "        vertical-align: middle;\n",
       "    }\n",
       "\n",
       "    .dataframe tbody tr th {\n",
       "        vertical-align: top;\n",
       "    }\n",
       "\n",
       "    .dataframe thead th {\n",
       "        text-align: right;\n",
       "    }\n",
       "</style>\n",
       "<table border=\"1\" class=\"dataframe\">\n",
       "  <thead>\n",
       "    <tr style=\"text-align: right;\">\n",
       "      <th></th>\n",
       "      <th>trackID</th>\n",
       "      <th>title</th>\n",
       "      <th>predictions</th>\n",
       "    </tr>\n",
       "  </thead>\n",
       "  <tbody>\n",
       "    <tr>\n",
       "      <th>0</th>\n",
       "      <td>5415</td>\n",
       "      <td>Greedee</td>\n",
       "      <td>metal</td>\n",
       "    </tr>\n",
       "  </tbody>\n",
       "</table>\n",
       "</div>"
      ],
      "text/plain": [
       "   trackID    title predictions\n",
       "0     5415  Greedee       metal"
      ]
     },
     "execution_count": 7,
     "metadata": {},
     "output_type": "execute_result"
    }
   ],
   "source": [
    "sample_df"
   ]
  },
  {
   "cell_type": "code",
   "execution_count": 9,
   "id": "e2677df1",
   "metadata": {},
   "outputs": [
    {
     "name": "stdout",
     "output_type": "stream",
     "text": [
      "[('titles_and_genre',)]\n"
     ]
    }
   ],
   "source": [
    "con = sqlite3.connect(\"./db/music.db\")\n",
    "cur = con.cursor() \n",
    "cur.execute(\"SELECT name FROM sqlite_master WHERE type='table' ORDER BY name;\")\n",
    "print(cur.fetchall())\n"
   ]
  },
  {
   "cell_type": "code",
   "execution_count": 10,
   "id": "1e0fb80c",
   "metadata": {},
   "outputs": [
    {
     "data": {
      "text/html": [
       "<div>\n",
       "<style scoped>\n",
       "    .dataframe tbody tr th:only-of-type {\n",
       "        vertical-align: middle;\n",
       "    }\n",
       "\n",
       "    .dataframe tbody tr th {\n",
       "        vertical-align: top;\n",
       "    }\n",
       "\n",
       "    .dataframe thead th {\n",
       "        text-align: right;\n",
       "    }\n",
       "</style>\n",
       "<table border=\"1\" class=\"dataframe\">\n",
       "  <thead>\n",
       "    <tr style=\"text-align: right;\">\n",
       "      <th></th>\n",
       "      <th>index</th>\n",
       "      <th>trackID</th>\n",
       "      <th>title</th>\n",
       "      <th>predictions</th>\n",
       "    </tr>\n",
       "  </thead>\n",
       "  <tbody>\n",
       "    <tr>\n",
       "      <th>0</th>\n",
       "      <td>0</td>\n",
       "      <td>6732</td>\n",
       "      <td>You Get What You Give</td>\n",
       "      <td>metal</td>\n",
       "    </tr>\n",
       "  </tbody>\n",
       "</table>\n",
       "</div>"
      ],
      "text/plain": [
       "   index  trackID                  title predictions\n",
       "0      0     6732  You Get What You Give       metal"
      ]
     },
     "execution_count": 10,
     "metadata": {},
     "output_type": "execute_result"
    }
   ],
   "source": [
    "cursor = con.cursor()\n",
    "sql='''\n",
    "SELECT * FROM titles_and_genre limit 1\n",
    "'''\n",
    "sample_df = pd.read_sql_query(sql, con)\n",
    "sample_df.head()"
   ]
  },
  {
   "cell_type": "code",
   "execution_count": 11,
   "id": "e0d26c81",
   "metadata": {},
   "outputs": [
    {
     "ename": "TypeError",
     "evalue": "list indices must be integers or slices, not str",
     "output_type": "error",
     "traceback": [
      "\u001b[0;31m------------------------------------------------------------------\u001b[0m",
      "\u001b[0;31mTypeError\u001b[0m                        Traceback (most recent call last)",
      "\u001b[0;32m<ipython-input-11-04fa65d8db2e>\u001b[0m in \u001b[0;36m<module>\u001b[0;34m\u001b[0m\n\u001b[1;32m     25\u001b[0m   }\n\u001b[1;32m     26\u001b[0m ]\n\u001b[0;32m---> 27\u001b[0;31m \u001b[0mjson\u001b[0m\u001b[0;34m[\u001b[0m\u001b[0;34m'predictions'\u001b[0m\u001b[0;34m]\u001b[0m\u001b[0;34m\u001b[0m\u001b[0;34m\u001b[0m\u001b[0m\n\u001b[0m",
      "\u001b[0;31mTypeError\u001b[0m: list indices must be integers or slices, not str"
     ]
    }
   ],
   "source": [
    "json = [\n",
    "  {\n",
    "    \"predictions\": \"metal\"\n",
    "  },\n",
    "  {\n",
    "    \"predictions\": \"folk\"\n",
    "  },\n",
    "  {\n",
    "    \"predictions\": \"soul and reggae\"\n",
    "  },\n",
    "  {\n",
    "    \"predictions\": \"pop\"\n",
    "  },\n",
    "  {\n",
    "    \"predictions\": \"classic pop and rock\"\n",
    "  },\n",
    "  {\n",
    "    \"predictions\": \"dance and electronica\"\n",
    "  },\n",
    "  {\n",
    "    \"predictions\": \"punk\"\n",
    "  },\n",
    "  {\n",
    "    \"predictions\": \"jazz and blues\"\n",
    "  }\n",
    "]\n",
    "json['predictions']"
   ]
  },
  {
   "cell_type": "code",
   "execution_count": 12,
   "id": "d299a201",
   "metadata": {
    "collapsed": true,
    "jupyter": {
     "outputs_hidden": true
    }
   },
   "outputs": [
    {
     "data": {
      "text/plain": [
       "['m',\n",
       " 'e',\n",
       " 't',\n",
       " 'a',\n",
       " 'l',\n",
       " 'f',\n",
       " 'o',\n",
       " 'l',\n",
       " 'k',\n",
       " 's',\n",
       " 'o',\n",
       " 'u',\n",
       " 'l',\n",
       " ' ',\n",
       " 'a',\n",
       " 'n',\n",
       " 'd',\n",
       " ' ',\n",
       " 'r',\n",
       " 'e',\n",
       " 'g',\n",
       " 'g',\n",
       " 'a',\n",
       " 'e',\n",
       " 'p',\n",
       " 'o',\n",
       " 'p',\n",
       " 'c',\n",
       " 'l',\n",
       " 'a',\n",
       " 's',\n",
       " 's',\n",
       " 'i',\n",
       " 'c',\n",
       " ' ',\n",
       " 'p',\n",
       " 'o',\n",
       " 'p',\n",
       " ' ',\n",
       " 'a',\n",
       " 'n',\n",
       " 'd',\n",
       " ' ',\n",
       " 'r',\n",
       " 'o',\n",
       " 'c',\n",
       " 'k',\n",
       " 'd',\n",
       " 'a',\n",
       " 'n',\n",
       " 'c',\n",
       " 'e',\n",
       " ' ',\n",
       " 'a',\n",
       " 'n',\n",
       " 'd',\n",
       " ' ',\n",
       " 'e',\n",
       " 'l',\n",
       " 'e',\n",
       " 'c',\n",
       " 't',\n",
       " 'r',\n",
       " 'o',\n",
       " 'n',\n",
       " 'i',\n",
       " 'c',\n",
       " 'a',\n",
       " 'p',\n",
       " 'u',\n",
       " 'n',\n",
       " 'k',\n",
       " 'j',\n",
       " 'a',\n",
       " 'z',\n",
       " 'z',\n",
       " ' ',\n",
       " 'a',\n",
       " 'n',\n",
       " 'd',\n",
       " ' ',\n",
       " 'b',\n",
       " 'l',\n",
       " 'u',\n",
       " 'e',\n",
       " 's']"
      ]
     },
     "execution_count": 12,
     "metadata": {},
     "output_type": "execute_result"
    }
   ],
   "source": [
    "lst=[]\n",
    "for item in json:\n",
    "    for genre in item['predictions']:\n",
    "        lst.append(genre)\n",
    "lst"
   ]
  },
  {
   "cell_type": "code",
   "execution_count": 13,
   "id": "fc39ade7",
   "metadata": {},
   "outputs": [
    {
     "data": {
      "text/plain": [
       "['metal',\n",
       " 'folk',\n",
       " 'soul and reggae',\n",
       " 'pop',\n",
       " 'classic pop and rock',\n",
       " 'dance and electronica',\n",
       " 'punk',\n",
       " 'jazz and blues']"
      ]
     },
     "execution_count": 13,
     "metadata": {},
     "output_type": "execute_result"
    }
   ],
   "source": [
    "[item['predictions'] for item in json]"
   ]
  },
  {
   "cell_type": "code",
   "execution_count": 5,
   "id": "e5b7f7cd",
   "metadata": {},
   "outputs": [
    {
     "data": {
      "text/plain": [
       "['soul and reggae', 'metal']"
      ]
     },
     "execution_count": 5,
     "metadata": {},
     "output_type": "execute_result"
    }
   ],
   "source": [
    "json = [{'trackID': 6732, 'title': 'Princess Black', 'predictions': 'soul and reggae'}, {'trackID': 4451, 'title': 'Cry Dignity', 'predictions': 'metal'}]\n",
    "[item['predictions'] for item in json]"
   ]
  },
  {
   "cell_type": "code",
   "execution_count": 4,
   "id": "d857dcb0",
   "metadata": {},
   "outputs": [
    {
     "ename": "AttributeError",
     "evalue": "'list' object has no attribute 'json'",
     "output_type": "error",
     "traceback": [
      "\u001b[0;31m---------------------------------------------------------------------------\u001b[0m",
      "\u001b[0;31mAttributeError\u001b[0m                            Traceback (most recent call last)",
      "\u001b[0;32m<ipython-input-4-4da4e7f79f45>\u001b[0m in \u001b[0;36m<module>\u001b[0;34m\u001b[0m\n\u001b[1;32m      1\u001b[0m \u001b[0mresponse\u001b[0m \u001b[0;34m=\u001b[0m \u001b[0;34m[\u001b[0m\u001b[0;34m(\u001b[0m\u001b[0;34m'metal'\u001b[0m\u001b[0;34m,\u001b[0m\u001b[0;34m)\u001b[0m\u001b[0;34m,\u001b[0m \u001b[0;34m(\u001b[0m\u001b[0;34m'folk'\u001b[0m\u001b[0;34m,\u001b[0m\u001b[0;34m)\u001b[0m\u001b[0;34m,\u001b[0m \u001b[0;34m(\u001b[0m\u001b[0;34m'soul and reggae'\u001b[0m\u001b[0;34m,\u001b[0m\u001b[0;34m)\u001b[0m\u001b[0;34m,\u001b[0m \u001b[0;34m(\u001b[0m\u001b[0;34m'pop'\u001b[0m\u001b[0;34m,\u001b[0m\u001b[0;34m)\u001b[0m\u001b[0;34m,\u001b[0m \u001b[0;34m(\u001b[0m\u001b[0;34m'classic pop and rock'\u001b[0m\u001b[0;34m,\u001b[0m\u001b[0;34m)\u001b[0m\u001b[0;34m,\u001b[0m \u001b[0;34m(\u001b[0m\u001b[0;34m'dance and electronica'\u001b[0m\u001b[0;34m,\u001b[0m\u001b[0;34m)\u001b[0m\u001b[0;34m,\u001b[0m \u001b[0;34m(\u001b[0m\u001b[0;34m'punk'\u001b[0m\u001b[0;34m,\u001b[0m\u001b[0;34m)\u001b[0m\u001b[0;34m,\u001b[0m \u001b[0;34m(\u001b[0m\u001b[0;34m'jazz and blues'\u001b[0m\u001b[0;34m,\u001b[0m\u001b[0;34m)\u001b[0m\u001b[0;34m]\u001b[0m\u001b[0;34m\u001b[0m\u001b[0;34m\u001b[0m\u001b[0m\n\u001b[1;32m      2\u001b[0m \u001b[0;34m\u001b[0m\u001b[0m\n\u001b[0;32m----> 3\u001b[0;31m \u001b[0mresponse\u001b[0m\u001b[0;34m.\u001b[0m\u001b[0mjson\u001b[0m\u001b[0;34m(\u001b[0m\u001b[0;34m)\u001b[0m\u001b[0;34m\u001b[0m\u001b[0;34m\u001b[0m\u001b[0m\n\u001b[0m",
      "\u001b[0;31mAttributeError\u001b[0m: 'list' object has no attribute 'json'"
     ]
    }
   ],
   "source": [
    "response = [('metal',), ('folk',), ('soul and reggae',), ('pop',), ('classic pop and rock',), ('dance and electronica',), ('punk',), ('jazz and blues',)]\n",
    "\n",
    "response.json()\n"
   ]
  },
  {
   "cell_type": "code",
   "execution_count": 2,
   "id": "bee16c8c",
   "metadata": {},
   "outputs": [
    {
     "name": "stdout",
     "output_type": "stream",
     "text": [
      "/Users/valerie/Desktop/DataScience/job-application/coding_assignments/ml/dbs_ds/stage1_sect_b\n"
     ]
    }
   ],
   "source": [
    "cd .."
   ]
  },
  {
   "cell_type": "code",
   "execution_count": null,
   "id": "ff5b736a",
   "metadata": {},
   "outputs": [],
   "source": [
    "attributes_w_inf_mean = []\n",
    "for col in master_df1.columns:\n",
    "#     print(col)\n",
    "#     print()\n",
    "    if master_df1[col].mean() == np.inf:\n",
    "        attributes_w_inf_mean.append(col)\n",
    "    elif master_df1[col].mean() == -np.inf:\n",
    "        attributes_w_inf_mean.append(col)\n",
    "attributes_w_inf_mean"
   ]
  },
  {
   "cell_type": "code",
   "execution_count": null,
   "id": "dacec5fd",
   "metadata": {},
   "outputs": [],
   "source": [
    "# find cols with inf values\n",
    "inf_col = master_df1.columns.to_series()[np.isinf(master_df1).any()].values.tolist()"
   ]
  }
 ],
 "metadata": {
  "kernelspec": {
   "display_name": "Python 3",
   "language": "python",
   "name": "python3"
  },
  "language_info": {
   "codemirror_mode": {
    "name": "ipython",
    "version": 3
   },
   "file_extension": ".py",
   "mimetype": "text/x-python",
   "name": "python",
   "nbconvert_exporter": "python",
   "pygments_lexer": "ipython3",
   "version": "3.8.5"
  }
 },
 "nbformat": 4,
 "nbformat_minor": 5
}
