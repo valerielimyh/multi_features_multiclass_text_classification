{
 "cells": [
  {
   "cell_type": "code",
   "execution_count": 1,
   "id": "4700e256",
   "metadata": {},
   "outputs": [
    {
     "name": "stdout",
     "output_type": "stream",
     "text": [
      "/Users/valerie/Desktop/DataScience/job-application/coding_assignments/ml/dbs_ds/stage1_sect_b\n"
     ]
    }
   ],
   "source": [
    "cd .."
   ]
  },
  {
   "cell_type": "code",
   "execution_count": 2,
   "id": "cdc267f6",
   "metadata": {},
   "outputs": [],
   "source": [
    "import pickle as pkl\n",
    "import pandas as pd\n",
    "import numpy as np\n",
    "from src.utils.helpers import *\n",
    "import sqlite3"
   ]
  },
  {
   "cell_type": "code",
   "execution_count": 3,
   "id": "f9e0fa79",
   "metadata": {},
   "outputs": [],
   "source": [
    "# later reload the pickle file\n",
    "vect_pca = pkl.load(open(\"./models/vect_pca.pkl\",'rb'))\n",
    "tfidf_pca = pkl.load(open(\"./models/tfidf_pca.pkl\",'rb'))\n",
    "scaler = pkl.load(open(\"./models/scaler.pkl\",'rb'))\n",
    "TFidf = pkl.load(open(\"./models/TFidf.pkl\",'rb'))\n",
    "\n",
    "# load saved objects from 0.1-eda\n",
    "trained_vect_cols = pkl.load(open(\"./models/vect_cols.pkl\",'rb'))\n",
    "trained_tfidf_cols = pkl.load(open(\"./models/tfidf_cols.pkl\",'rb'))\n",
    "lgbm_cv_model_1 = pkl.load(open(\"./models/lgbm_cv_model_1.pkl\",'rb'))\n",
    "labelencoder = pkl.load(open(\"./models/labelencoder.pkl\",'rb'))"
   ]
  },
  {
   "cell_type": "code",
   "execution_count": 4,
   "id": "14bd8ee2",
   "metadata": {},
   "outputs": [
    {
     "data": {
      "text/plain": [
       "(428, 157)"
      ]
     },
     "execution_count": 4,
     "metadata": {},
     "output_type": "execute_result"
    }
   ],
   "source": [
    "df = pd.read_csv('./data/test.csv')\n",
    "df.shape"
   ]
  },
  {
   "cell_type": "code",
   "execution_count": 6,
   "id": "e65b6eb7",
   "metadata": {},
   "outputs": [
    {
     "data": {
      "text/plain": [
       "(428, 157)"
      ]
     },
     "execution_count": 6,
     "metadata": {},
     "output_type": "execute_result"
    }
   ],
   "source": [
    "# check for nulls\n",
    "df1 = df[~df.isin([np.nan, np.inf, -np.inf]).any(1)]\n",
    "df1.shape"
   ]
  },
  {
   "cell_type": "code",
   "execution_count": 7,
   "id": "818e02d1",
   "metadata": {},
   "outputs": [
    {
     "data": {
      "text/html": [
       "<div>\n",
       "<style scoped>\n",
       "    .dataframe tbody tr th:only-of-type {\n",
       "        vertical-align: middle;\n",
       "    }\n",
       "\n",
       "    .dataframe tbody tr th {\n",
       "        vertical-align: top;\n",
       "    }\n",
       "\n",
       "    .dataframe thead th {\n",
       "        text-align: right;\n",
       "    }\n",
       "</style>\n",
       "<table border=\"1\" class=\"dataframe\">\n",
       "  <thead>\n",
       "    <tr style=\"text-align: right;\">\n",
       "      <th></th>\n",
       "      <th>trackID</th>\n",
       "      <th>title</th>\n",
       "      <th>tags</th>\n",
       "      <th>loudness</th>\n",
       "      <th>tempo</th>\n",
       "      <th>time_signature</th>\n",
       "      <th>key</th>\n",
       "      <th>mode</th>\n",
       "      <th>duration</th>\n",
       "      <th>vect_1</th>\n",
       "      <th>...</th>\n",
       "      <th>vect_139</th>\n",
       "      <th>vect_140</th>\n",
       "      <th>vect_141</th>\n",
       "      <th>vect_142</th>\n",
       "      <th>vect_143</th>\n",
       "      <th>vect_144</th>\n",
       "      <th>vect_145</th>\n",
       "      <th>vect_146</th>\n",
       "      <th>vect_147</th>\n",
       "      <th>vect_148</th>\n",
       "    </tr>\n",
       "  </thead>\n",
       "  <tbody>\n",
       "    <tr>\n",
       "      <th>0</th>\n",
       "      <td>6732</td>\n",
       "      <td>You Get What You Give</td>\n",
       "      <td>i, the, you, to, and, a, me, it, not, in, is, ...</td>\n",
       "      <td>-5.672</td>\n",
       "      <td>113.941</td>\n",
       "      <td>4</td>\n",
       "      <td>2</td>\n",
       "      <td>1</td>\n",
       "      <td>300.82567</td>\n",
       "      <td>49.707499</td>\n",
       "      <td>...</td>\n",
       "      <td>0.000628</td>\n",
       "      <td>0.000660</td>\n",
       "      <td>0.000660</td>\n",
       "      <td>0.000667</td>\n",
       "      <td>0.000615</td>\n",
       "      <td>0.000582</td>\n",
       "      <td>0.000534</td>\n",
       "      <td>0.000476</td>\n",
       "      <td>0.21001</td>\n",
       "      <td>1.392651</td>\n",
       "    </tr>\n",
       "    <tr>\n",
       "      <th>1</th>\n",
       "      <td>5415</td>\n",
       "      <td>Greedee</td>\n",
       "      <td>i, the, you, to, and, a, me, it, not, in, my, ...</td>\n",
       "      <td>-7.931</td>\n",
       "      <td>102.062</td>\n",
       "      <td>4</td>\n",
       "      <td>11</td>\n",
       "      <td>1</td>\n",
       "      <td>259.60444</td>\n",
       "      <td>46.829729</td>\n",
       "      <td>...</td>\n",
       "      <td>0.000414</td>\n",
       "      <td>0.000423</td>\n",
       "      <td>0.000428</td>\n",
       "      <td>0.000432</td>\n",
       "      <td>0.000416</td>\n",
       "      <td>0.000389</td>\n",
       "      <td>0.000359</td>\n",
       "      <td>0.000331</td>\n",
       "      <td>0.12408</td>\n",
       "      <td>0.604772</td>\n",
       "    </tr>\n",
       "  </tbody>\n",
       "</table>\n",
       "<p>2 rows × 157 columns</p>\n",
       "</div>"
      ],
      "text/plain": [
       "   trackID                  title  \\\n",
       "0     6732  You Get What You Give   \n",
       "1     5415                Greedee   \n",
       "\n",
       "                                                tags  loudness    tempo  \\\n",
       "0  i, the, you, to, and, a, me, it, not, in, is, ...    -5.672  113.941   \n",
       "1  i, the, you, to, and, a, me, it, not, in, my, ...    -7.931  102.062   \n",
       "\n",
       "   time_signature  key  mode   duration     vect_1  ...  vect_139  vect_140  \\\n",
       "0               4    2     1  300.82567  49.707499  ...  0.000628  0.000660   \n",
       "1               4   11     1  259.60444  46.829729  ...  0.000414  0.000423   \n",
       "\n",
       "   vect_141  vect_142  vect_143  vect_144  vect_145  vect_146  vect_147  \\\n",
       "0  0.000660  0.000667  0.000615  0.000582  0.000534  0.000476   0.21001   \n",
       "1  0.000428  0.000432  0.000416  0.000389  0.000359  0.000331   0.12408   \n",
       "\n",
       "   vect_148  \n",
       "0  1.392651  \n",
       "1  0.604772  \n",
       "\n",
       "[2 rows x 157 columns]"
      ]
     },
     "execution_count": 7,
     "metadata": {},
     "output_type": "execute_result"
    }
   ],
   "source": [
    "df1.head(2)"
   ]
  },
  {
   "cell_type": "code",
   "execution_count": 8,
   "id": "96e800f4",
   "metadata": {},
   "outputs": [],
   "source": [
    "df1['tokenized_title'] = df1['title'].apply(lambda x:utils_preprocess_text(x))\n",
    "title_and_tags_cols = ['tokenized_title', 'tags']\n",
    "for col in title_and_tags_cols:\n",
    "    df1.loc[df1[col].isnull(), col] = ''\n",
    "df1['title_and_tags'] = df1['tokenized_title'] + ', ' + df1['tags']"
   ]
  },
  {
   "cell_type": "code",
   "execution_count": 9,
   "id": "6357072a",
   "metadata": {},
   "outputs": [],
   "source": [
    "assert df1['title_and_tags'].isnull().sum() == 0"
   ]
  },
  {
   "cell_type": "code",
   "execution_count": 10,
   "id": "9199f4ab",
   "metadata": {},
   "outputs": [],
   "source": [
    "corpus = df1['title_and_tags'].astype(str)\n",
    "dtm_TFidf = TFidf.transform(corpus)"
   ]
  },
  {
   "cell_type": "code",
   "execution_count": 11,
   "id": "83cf2810",
   "metadata": {},
   "outputs": [
    {
     "data": {
      "text/plain": [
       "(428, 10268)"
      ]
     },
     "execution_count": 11,
     "metadata": {},
     "output_type": "execute_result"
    }
   ],
   "source": [
    "dtm_TFidf.shape"
   ]
  },
  {
   "cell_type": "code",
   "execution_count": 12,
   "id": "2e613bed",
   "metadata": {},
   "outputs": [],
   "source": [
    "# convert document-term matrix into a df so that we can combine with original df\n",
    "# add `d_` prefix as an identifier for easier filtering later \n",
    "title_and_tags_label = [e[:30]+\"...\" for e in corpus]\n",
    "dtm_TFidf_df = pd.DataFrame(dtm_TFidf.toarray(), index=title_and_tags_label, columns=[\"d_\" + str(i) for i in TFidf.get_feature_names()])\n"
   ]
  },
  {
   "cell_type": "code",
   "execution_count": 13,
   "id": "85bc6631",
   "metadata": {},
   "outputs": [
    {
     "name": "stdout",
     "output_type": "stream",
     "text": [
      "<class 'pandas.core.frame.DataFrame'>\n",
      "Index: 428 entries, you, get, what, you, give, i, ... to guitarra, mia, a, me, no, que,...\n",
      "Columns: 10268 entries, d_aah to d_zwei\n",
      "dtypes: float16(10268)\n",
      "memory usage: 8.4+ MB\n"
     ]
    }
   ],
   "source": [
    "# quantize values\n",
    "dtm_TFidf_df = dtm_TFidf_df.astype(np.float16)\n",
    "dtm_TFidf_df.info()"
   ]
  },
  {
   "cell_type": "code",
   "execution_count": 13,
   "id": "78edc32c",
   "metadata": {},
   "outputs": [
    {
     "data": {
      "text/plain": [
       "(428, 876)"
      ]
     },
     "execution_count": 13,
     "metadata": {},
     "output_type": "execute_result"
    }
   ],
   "source": [
    "# dtm_TFidf_df.shape"
   ]
  },
  {
   "cell_type": "code",
   "execution_count": 14,
   "id": "58043f33",
   "metadata": {},
   "outputs": [
    {
     "data": {
      "text/plain": [
       "(428, 10268)"
      ]
     },
     "execution_count": 14,
     "metadata": {},
     "output_type": "execute_result"
    }
   ],
   "source": [
    "dtm_TFidf_df.shape"
   ]
  },
  {
   "cell_type": "code",
   "execution_count": 15,
   "id": "f68c5c42",
   "metadata": {},
   "outputs": [
    {
     "data": {
      "text/plain": [
       "(428, 159)"
      ]
     },
     "execution_count": 15,
     "metadata": {},
     "output_type": "execute_result"
    }
   ],
   "source": [
    "df1.shape"
   ]
  },
  {
   "cell_type": "code",
   "execution_count": 16,
   "id": "e4460cca",
   "metadata": {},
   "outputs": [],
   "source": [
    "dtm_TFidf_df['trackID'] = df1['trackID'].values"
   ]
  },
  {
   "cell_type": "code",
   "execution_count": 17,
   "id": "1492a2c3",
   "metadata": {},
   "outputs": [],
   "source": [
    "numeric_feat = df1.select_dtypes(include = ['float64']).columns\n",
    "int_feat = df1.select_dtypes(include = ['int64']).columns"
   ]
  },
  {
   "cell_type": "code",
   "execution_count": 18,
   "id": "0e3e3b9b",
   "metadata": {},
   "outputs": [
    {
     "data": {
      "text/plain": [
       "True"
      ]
     },
     "execution_count": 18,
     "metadata": {},
     "output_type": "execute_result"
    }
   ],
   "source": [
    "numeric_feat_and_id = list(int_feat) + list(numeric_feat)\n",
    "len(numeric_feat_and_id) == len(list(int_feat)) + len(list(numeric_feat))"
   ]
  },
  {
   "cell_type": "code",
   "execution_count": 19,
   "id": "f2b0655e",
   "metadata": {},
   "outputs": [
    {
     "data": {
      "text/html": [
       "<div>\n",
       "<style scoped>\n",
       "    .dataframe tbody tr th:only-of-type {\n",
       "        vertical-align: middle;\n",
       "    }\n",
       "\n",
       "    .dataframe tbody tr th {\n",
       "        vertical-align: top;\n",
       "    }\n",
       "\n",
       "    .dataframe thead th {\n",
       "        text-align: right;\n",
       "    }\n",
       "</style>\n",
       "<table border=\"1\" class=\"dataframe\">\n",
       "  <thead>\n",
       "    <tr style=\"text-align: right;\">\n",
       "      <th></th>\n",
       "      <th>trackID</th>\n",
       "      <th>time_signature</th>\n",
       "      <th>key</th>\n",
       "      <th>mode</th>\n",
       "      <th>loudness</th>\n",
       "      <th>tempo</th>\n",
       "      <th>duration</th>\n",
       "      <th>vect_1</th>\n",
       "      <th>vect_2</th>\n",
       "      <th>vect_3</th>\n",
       "      <th>...</th>\n",
       "      <th>vect_139</th>\n",
       "      <th>vect_140</th>\n",
       "      <th>vect_141</th>\n",
       "      <th>vect_142</th>\n",
       "      <th>vect_143</th>\n",
       "      <th>vect_144</th>\n",
       "      <th>vect_145</th>\n",
       "      <th>vect_146</th>\n",
       "      <th>vect_147</th>\n",
       "      <th>vect_148</th>\n",
       "    </tr>\n",
       "  </thead>\n",
       "  <tbody>\n",
       "    <tr>\n",
       "      <th>0</th>\n",
       "      <td>6732</td>\n",
       "      <td>4</td>\n",
       "      <td>2</td>\n",
       "      <td>1</td>\n",
       "      <td>-5.672</td>\n",
       "      <td>113.941</td>\n",
       "      <td>300.82567</td>\n",
       "      <td>49.707499</td>\n",
       "      <td>38.764963</td>\n",
       "      <td>33.624619</td>\n",
       "      <td>...</td>\n",
       "      <td>0.000628</td>\n",
       "      <td>0.00066</td>\n",
       "      <td>0.00066</td>\n",
       "      <td>0.000667</td>\n",
       "      <td>0.000615</td>\n",
       "      <td>0.000582</td>\n",
       "      <td>0.000534</td>\n",
       "      <td>0.000476</td>\n",
       "      <td>0.21001</td>\n",
       "      <td>1.392651</td>\n",
       "    </tr>\n",
       "  </tbody>\n",
       "</table>\n",
       "<p>1 rows × 155 columns</p>\n",
       "</div>"
      ],
      "text/plain": [
       "   trackID  time_signature  key  mode  loudness    tempo   duration  \\\n",
       "0     6732               4    2     1    -5.672  113.941  300.82567   \n",
       "\n",
       "      vect_1     vect_2     vect_3  ...  vect_139  vect_140  vect_141  \\\n",
       "0  49.707499  38.764963  33.624619  ...  0.000628   0.00066   0.00066   \n",
       "\n",
       "   vect_142  vect_143  vect_144  vect_145  vect_146  vect_147  vect_148  \n",
       "0  0.000667  0.000615  0.000582  0.000534  0.000476   0.21001  1.392651  \n",
       "\n",
       "[1 rows x 155 columns]"
      ]
     },
     "execution_count": 19,
     "metadata": {},
     "output_type": "execute_result"
    }
   ],
   "source": [
    "df1[numeric_feat_and_id].head(1)"
   ]
  },
  {
   "cell_type": "code",
   "execution_count": 20,
   "id": "2dab7c89",
   "metadata": {},
   "outputs": [],
   "source": [
    "# combine dtm_TFidf_df with original df\n",
    "df2 = df1[numeric_feat_and_id].merge(dtm_TFidf_df, on = 'trackID')\n",
    "assert len(df2) == len(df1)"
   ]
  },
  {
   "cell_type": "markdown",
   "id": "3f671bf8",
   "metadata": {},
   "source": [
    "process data for modeling"
   ]
  },
  {
   "cell_type": "code",
   "execution_count": 21,
   "id": "b617baae",
   "metadata": {},
   "outputs": [],
   "source": [
    "test_vect_cols = [col for col in df2.columns if col.startswith('vect')]\n",
    "test_tfidf_cols = [col for col in df2.columns if col.startswith('d_')]"
   ]
  },
  {
   "cell_type": "code",
   "execution_count": 22,
   "id": "5f3f81f6",
   "metadata": {},
   "outputs": [
    {
     "data": {
      "text/html": [
       "<div>\n",
       "<style scoped>\n",
       "    .dataframe tbody tr th:only-of-type {\n",
       "        vertical-align: middle;\n",
       "    }\n",
       "\n",
       "    .dataframe tbody tr th {\n",
       "        vertical-align: top;\n",
       "    }\n",
       "\n",
       "    .dataframe thead th {\n",
       "        text-align: right;\n",
       "    }\n",
       "</style>\n",
       "<table border=\"1\" class=\"dataframe\">\n",
       "  <thead>\n",
       "    <tr style=\"text-align: right;\">\n",
       "      <th></th>\n",
       "      <th>trackID</th>\n",
       "      <th>time_signature</th>\n",
       "      <th>key</th>\n",
       "      <th>mode</th>\n",
       "      <th>loudness</th>\n",
       "      <th>tempo</th>\n",
       "      <th>duration</th>\n",
       "      <th>vect_1</th>\n",
       "      <th>vect_2</th>\n",
       "      <th>vect_3</th>\n",
       "      <th>...</th>\n",
       "      <th>d_youth</th>\n",
       "      <th>d_yuh</th>\n",
       "      <th>d_zeit</th>\n",
       "      <th>d_zero</th>\n",
       "      <th>d_zone</th>\n",
       "      <th>d_zoo</th>\n",
       "      <th>d_zum</th>\n",
       "      <th>d_zur</th>\n",
       "      <th>d_zuruck</th>\n",
       "      <th>d_zwei</th>\n",
       "    </tr>\n",
       "  </thead>\n",
       "  <tbody>\n",
       "    <tr>\n",
       "      <th>0</th>\n",
       "      <td>6732</td>\n",
       "      <td>4</td>\n",
       "      <td>2</td>\n",
       "      <td>1</td>\n",
       "      <td>-5.672</td>\n",
       "      <td>113.941</td>\n",
       "      <td>300.82567</td>\n",
       "      <td>49.707499</td>\n",
       "      <td>38.764963</td>\n",
       "      <td>33.624619</td>\n",
       "      <td>...</td>\n",
       "      <td>0.0</td>\n",
       "      <td>0.0</td>\n",
       "      <td>0.0</td>\n",
       "      <td>0.0</td>\n",
       "      <td>0.0</td>\n",
       "      <td>0.0</td>\n",
       "      <td>0.0</td>\n",
       "      <td>0.0</td>\n",
       "      <td>0.0</td>\n",
       "      <td>0.0</td>\n",
       "    </tr>\n",
       "  </tbody>\n",
       "</table>\n",
       "<p>1 rows × 10423 columns</p>\n",
       "</div>"
      ],
      "text/plain": [
       "   trackID  time_signature  key  mode  loudness    tempo   duration  \\\n",
       "0     6732               4    2     1    -5.672  113.941  300.82567   \n",
       "\n",
       "      vect_1     vect_2     vect_3  ...  d_youth  d_yuh  d_zeit  d_zero  \\\n",
       "0  49.707499  38.764963  33.624619  ...      0.0    0.0     0.0     0.0   \n",
       "\n",
       "   d_zone  d_zoo  d_zum  d_zur  d_zuruck  d_zwei  \n",
       "0     0.0    0.0    0.0    0.0       0.0     0.0  \n",
       "\n",
       "[1 rows x 10423 columns]"
      ]
     },
     "execution_count": 22,
     "metadata": {},
     "output_type": "execute_result"
    }
   ],
   "source": [
    "df2.head(1)"
   ]
  },
  {
   "cell_type": "code",
   "execution_count": 24,
   "id": "394e5c02",
   "metadata": {},
   "outputs": [],
   "source": [
    "absent_tfidf_cols = [col for col in trained_tfidf_cols if col not in test_tfidf_cols]\n",
    "absent_vect_cols = [col for col in trained_vect_cols if col not in test_vect_cols]"
   ]
  },
  {
   "cell_type": "code",
   "execution_count": 25,
   "id": "b7a94bf9",
   "metadata": {},
   "outputs": [],
   "source": [
    "if len(absent_tfidf_cols) != 0:\n",
    "    for col in absent_tfidf_cols:\n",
    "        df2[col] = 0\n",
    "else:\n",
    "    pass"
   ]
  },
  {
   "cell_type": "code",
   "execution_count": 26,
   "id": "17d4d22a",
   "metadata": {},
   "outputs": [],
   "source": [
    "if len(absent_vect_cols) != 0:\n",
    "    for col in absent_vect_cols:\n",
    "        df2[col] = 0\n",
    "else:\n",
    "    pass"
   ]
  },
  {
   "cell_type": "code",
   "execution_count": 27,
   "id": "39bede75",
   "metadata": {},
   "outputs": [
    {
     "data": {
      "text/plain": [
       "(428, 10423)"
      ]
     },
     "execution_count": 27,
     "metadata": {},
     "output_type": "execute_result"
    }
   ],
   "source": [
    "df2.shape"
   ]
  },
  {
   "cell_type": "code",
   "execution_count": 28,
   "id": "10a93252",
   "metadata": {},
   "outputs": [],
   "source": [
    "features_to_scale = trained_tfidf_cols + trained_vect_cols"
   ]
  },
  {
   "cell_type": "code",
   "execution_count": 29,
   "id": "6c40857a",
   "metadata": {},
   "outputs": [],
   "source": [
    "# apply feature scaling\n",
    "X_scaled_cols_df = pd.DataFrame(scaler.transform(df2[features_to_scale].to_numpy().astype(np.float64)), columns=[str(i) + \"_scaled\" for i in features_to_scale])\n",
    "vect_scaled_cols = [str(i) + \"_scaled\" for i in trained_vect_cols]\n",
    "tfidf_scaled_cols = [str(i) + \"_scaled\" for i in trained_tfidf_cols]\n",
    "\n",
    "# apply pca to vect and tfidf cols\n",
    "X_test_vect_pca = vect_pca.transform(X_scaled_cols_df[vect_scaled_cols])\n",
    "X_test_tfidf_pca = tfidf_pca.transform(X_scaled_cols_df[tfidf_scaled_cols])\n",
    "\n",
    "vect_pca_n_components = 10\n",
    "tfidf_pca_n_components = 500\n",
    "\n",
    "# convert np array to df so as to combine with master_df with non scaled cols\n",
    "X_test_vect_pca_df = pd.DataFrame(X_test_vect_pca, columns=[\"vect_pca_\" + str(i) for i in range(vect_pca_n_components)])\n",
    "X_test_tfidf_pca_df = pd.DataFrame(X_test_tfidf_pca, columns=[\"tfidf_pca_\" + str(i) for i in range(tfidf_pca_n_components)])\n"
   ]
  },
  {
   "cell_type": "code",
   "execution_count": 30,
   "id": "c52707db",
   "metadata": {},
   "outputs": [
    {
     "data": {
      "text/plain": [
       "['time_signature', 'key', 'mode', 'loudness', 'tempo', 'duration']"
      ]
     },
     "execution_count": 30,
     "metadata": {},
     "output_type": "execute_result"
    }
   ],
   "source": [
    "model_features = [col for col in df2.columns if col not in ('trackID')]\n",
    "non_scaled_cols = [col for col in model_features if col not in trained_vect_cols if col not in trained_tfidf_cols if col not in test_vect_cols if col not in test_tfidf_cols]\n",
    "non_scaled_cols"
   ]
  },
  {
   "cell_type": "code",
   "execution_count": 31,
   "id": "9ec08b9b",
   "metadata": {},
   "outputs": [
    {
     "data": {
      "text/plain": [
       "True"
      ]
     },
     "execution_count": 31,
     "metadata": {},
     "output_type": "execute_result"
    }
   ],
   "source": [
    "# # combine our pca df with original df that i didn't scale\n",
    "X_test = pd.concat([df2[non_scaled_cols], X_test_vect_pca_df, X_test_tfidf_pca_df], axis=1)\n",
    "# check if same number of rows after join\n",
    "len(X_test) == len(df2)"
   ]
  },
  {
   "cell_type": "code",
   "execution_count": 32,
   "id": "4736a18a",
   "metadata": {},
   "outputs": [
    {
     "name": "stdout",
     "output_type": "stream",
     "text": [
      "(428, 516)\n"
     ]
    }
   ],
   "source": [
    "assert len(X_test) == len(df2)\n",
    "print(X_test.shape)"
   ]
  },
  {
   "cell_type": "code",
   "execution_count": 33,
   "id": "5a2d3ebf",
   "metadata": {},
   "outputs": [],
   "source": [
    "y_gbm_test_preds = lgbm_cv_model_1.predict(X_test).round(1)\n",
    "y_gbm_test_labels = labelencoder.inverse_transform(y_gbm_test_preds)"
   ]
  },
  {
   "cell_type": "code",
   "execution_count": 34,
   "id": "ae9b15c5",
   "metadata": {},
   "outputs": [],
   "source": [
    "assert len(y_gbm_test_labels) == len(X_test)"
   ]
  },
  {
   "cell_type": "code",
   "execution_count": 35,
   "id": "8616970a",
   "metadata": {},
   "outputs": [
    {
     "data": {
      "text/html": [
       "<div>\n",
       "<style scoped>\n",
       "    .dataframe tbody tr th:only-of-type {\n",
       "        vertical-align: middle;\n",
       "    }\n",
       "\n",
       "    .dataframe tbody tr th {\n",
       "        vertical-align: top;\n",
       "    }\n",
       "\n",
       "    .dataframe thead th {\n",
       "        text-align: right;\n",
       "    }\n",
       "</style>\n",
       "<table border=\"1\" class=\"dataframe\">\n",
       "  <thead>\n",
       "    <tr style=\"text-align: right;\">\n",
       "      <th></th>\n",
       "      <th>trackID</th>\n",
       "      <th>title</th>\n",
       "      <th>predictions</th>\n",
       "    </tr>\n",
       "  </thead>\n",
       "  <tbody>\n",
       "    <tr>\n",
       "      <th>0</th>\n",
       "      <td>6732</td>\n",
       "      <td>You Get What You Give</td>\n",
       "      <td>metal</td>\n",
       "    </tr>\n",
       "    <tr>\n",
       "      <th>1</th>\n",
       "      <td>5415</td>\n",
       "      <td>Greedee</td>\n",
       "      <td>metal</td>\n",
       "    </tr>\n",
       "  </tbody>\n",
       "</table>\n",
       "</div>"
      ],
      "text/plain": [
       "   trackID                  title predictions\n",
       "0     6732  You Get What You Give       metal\n",
       "1     5415                Greedee       metal"
      ]
     },
     "execution_count": 35,
     "metadata": {},
     "output_type": "execute_result"
    }
   ],
   "source": [
    "results =pd.DataFrame({\"trackID\": df1['trackID'], \"title\": df1['title'], \"predictions\": y_gbm_test_labels})\n",
    "results.head(2)"
   ]
  },
  {
   "cell_type": "code",
   "execution_count": 36,
   "id": "b5962318",
   "metadata": {},
   "outputs": [],
   "source": [
    "results.to_csv('./data/output/predictions.csv', index=False)\n",
    "\n",
    "# upload df to sqlite db\n",
    "con = sqlite3.connect(\"./music.db\")\n",
    "cursor = con.cursor()\n",
    "results.to_sql('titles_and_genre', con, index=False) #'titles_and_genre' will be the table name\n",
    "    \n",
    "con.commit()\n",
    "cursor.close()"
   ]
  }
 ],
 "metadata": {
  "kernelspec": {
   "display_name": "Python 3",
   "language": "python",
   "name": "python3"
  },
  "language_info": {
   "codemirror_mode": {
    "name": "ipython",
    "version": 3
   },
   "file_extension": ".py",
   "mimetype": "text/x-python",
   "name": "python",
   "nbconvert_exporter": "python",
   "pygments_lexer": "ipython3",
   "version": "3.8.5"
  }
 },
 "nbformat": 4,
 "nbformat_minor": 5
}
